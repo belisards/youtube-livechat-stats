{
 "cells": [
  {
   "cell_type": "code",
   "execution_count": 23,
   "metadata": {},
   "outputs": [],
   "source": [
    "import json\n",
    "import pandas as pd\n",
    "\n",
    "FOLDER = \"output\"\n",
    "\n",
    "file = \"Xp8pH3tCQ5E.json\"\n",
    "\n",
    "## TO-DO: Use Path instead\n",
    "\n",
    "INPUT_FILE = f\"{FOLDER}/{file}\"\n",
    "\n",
    "df = pd.read_json(INPUT_FILE)\n",
    "\n",
    "# explode dicts\n",
    "\n",
    "df = df.join(pd.json_normalize(df[\"content\"])).drop(columns=[\"content\"])"
   ]
  },
  {
   "cell_type": "code",
   "execution_count": 24,
   "metadata": {},
   "outputs": [
    {
     "data": {
      "text/plain": [
       "Index(['message_type', 'occurence_timestamp', 'timeStampUTC', 'author',\n",
       "       'message', 'emoji', 'text_content', 'purchaseAmount.simpleText',\n",
       "       'giftText', 'giftedText', 'membershipChat', 'membershipJoin',\n",
       "       'membershipRenewal'],\n",
       "      dtype='object')"
      ]
     },
     "execution_count": 24,
     "metadata": {},
     "output_type": "execute_result"
    }
   ],
   "source": [
    "df.columns"
   ]
  },
  {
   "cell_type": "code",
   "execution_count": 25,
   "metadata": {},
   "outputs": [
    {
     "data": {
      "text/plain": [
       "1401"
      ]
     },
     "execution_count": 25,
     "metadata": {},
     "output_type": "execute_result"
    }
   ],
   "source": [
    "df.author.nunique()"
   ]
  },
  {
   "cell_type": "code",
   "execution_count": 26,
   "metadata": {},
   "outputs": [
    {
     "data": {
      "text/plain": [
       "author\n",
       "Murilo Torres♰         294\n",
       "Ilana                  147\n",
       "N/A                    147\n",
       "Mateus Matias          122\n",
       "Sandro                 106\n",
       "                      ... \n",
       "BRENO DC YT              1\n",
       "NANDOLLA TV              1\n",
       "Gab                      1\n",
       "Ticquey HUE              1\n",
       "Marcelo Rocha Brito      1\n",
       "Name: count, Length: 1401, dtype: int64"
      ]
     },
     "execution_count": 26,
     "metadata": {},
     "output_type": "execute_result"
    }
   ],
   "source": [
    "df.author.value_counts()"
   ]
  },
  {
   "cell_type": "code",
   "execution_count": 27,
   "metadata": {},
   "outputs": [
    {
     "data": {
      "text/plain": [
       "message_type\n",
       "Chat Message                        6905\n",
       "Placeholder Item Message             147\n",
       "Superchat Message                     95\n",
       "Membership Gift Received message      17\n",
       "Membership Chat message               10\n",
       "Membership Gift message                3\n",
       "Membership Join message                2\n",
       "Membership Renew message               2\n",
       "Name: count, dtype: int64"
      ]
     },
     "execution_count": 27,
     "metadata": {},
     "output_type": "execute_result"
    }
   ],
   "source": [
    "df.message_type.value_counts()"
   ]
  },
  {
   "cell_type": "code",
   "execution_count": 28,
   "metadata": {},
   "outputs": [
    {
     "data": {
      "text/plain": [
       "purchaseAmount.simpleText\n",
       "R$2.00     60\n",
       "R$5.00     26\n",
       "R$10.90     3\n",
       "R$10.00     2\n",
       "R$1.00      2\n",
       "$5.00       1\n",
       "R$2.01      1\n",
       "Name: count, dtype: int64"
      ]
     },
     "execution_count": 28,
     "metadata": {},
     "output_type": "execute_result"
    }
   ],
   "source": [
    "df[\"purchaseAmount.simpleText\"].value_counts()"
   ]
  },
  {
   "cell_type": "code",
   "execution_count": 29,
   "metadata": {},
   "outputs": [
    {
     "name": "stdout",
     "output_type": "stream",
     "text": [
      "<class 'pandas.core.frame.DataFrame'>\n",
      "RangeIndex: 7181 entries, 0 to 7180\n",
      "Data columns (total 13 columns):\n",
      " #   Column                     Non-Null Count  Dtype         \n",
      "---  ------                     --------------  -----         \n",
      " 0   message_type               7181 non-null   object        \n",
      " 1   occurence_timestamp        7178 non-null   object        \n",
      " 2   timeStampUTC               7181 non-null   datetime64[ns]\n",
      " 3   author                     7181 non-null   object        \n",
      " 4   message                    7147 non-null   object        \n",
      " 5   emoji                      6905 non-null   object        \n",
      " 6   text_content               6905 non-null   object        \n",
      " 7   purchaseAmount.simpleText  95 non-null     object        \n",
      " 8   giftText                   3 non-null      object        \n",
      " 9   giftedText                 17 non-null     object        \n",
      " 10  membershipChat             10 non-null     object        \n",
      " 11  membershipJoin             2 non-null      object        \n",
      " 12  membershipRenewal          2 non-null      object        \n",
      "dtypes: datetime64[ns](1), object(12)\n",
      "memory usage: 729.4+ KB\n"
     ]
    }
   ],
   "source": [
    "df.info()"
   ]
  },
  {
   "cell_type": "code",
   "execution_count": 30,
   "metadata": {},
   "outputs": [
    {
     "name": "stderr",
     "output_type": "stream",
     "text": [
      "/tmp/ipykernel_258212/653160005.py:1: FutureWarning: A value is trying to be set on a copy of a DataFrame or Series through chained assignment using an inplace method.\n",
      "The behavior will change in pandas 3.0. This inplace method will never work because the intermediate object on which we are setting values always behaves as a copy.\n",
      "\n",
      "For example, when doing 'df[col].method(value, inplace=True)', try using 'df.method({col: value}, inplace=True)' or df[col] = df[col].method(value) instead, to perform the operation inplace on the original object.\n",
      "\n",
      "\n",
      "  df[\"purchaseAmount.simpleText\"].fillna(\"R$ 0.00\", inplace=True)\n"
     ]
    }
   ],
   "source": [
    "df[\"purchaseAmount.simpleText\"].fillna(\"R$ 0.00\", inplace=True)"
   ]
  },
  {
   "cell_type": "code",
   "execution_count": 31,
   "metadata": {},
   "outputs": [],
   "source": [
    "import re\n",
    "def parse_currency_and_value(currency_string):\n",
    "    # Regular expression to extract the currency symbol and the numeric value\n",
    "    pattern = re.compile(r'([^\\d.,]+)?([\\d.,]+)')\n",
    "    match = pattern.match(currency_string.strip())\n",
    "\n",
    "    if match:\n",
    "        currency = match.group(1)\n",
    "        currency = currency.strip() if currency else ''\n",
    "        value = float(match.group(2).replace(',', ''))  # Handle cases where commas are used as thousand separators\n",
    "        return currency, value\n",
    "    else:\n",
    "        raise ValueError(\"Invalid currency format\")\n",
    "\n",
    "    \n",
    "df[\"currency\"], df[\"amount\"] = zip(*df[\"purchaseAmount.simpleText\"].map(parse_currency_and_value))"
   ]
  },
  {
   "cell_type": "code",
   "execution_count": 32,
   "metadata": {},
   "outputs": [
    {
     "data": {
      "text/plain": [
       "amount\n",
       "0.00     7086\n",
       "2.00       60\n",
       "5.00       27\n",
       "10.90       3\n",
       "10.00       2\n",
       "1.00        2\n",
       "2.01        1\n",
       "Name: count, dtype: int64"
      ]
     },
     "execution_count": 32,
     "metadata": {},
     "output_type": "execute_result"
    }
   ],
   "source": [
    "df[\"amount\"].value_counts()"
   ]
  },
  {
   "cell_type": "code",
   "execution_count": 33,
   "metadata": {},
   "outputs": [
    {
     "data": {
      "text/plain": [
       "np.float64(311.71)"
      ]
     },
     "execution_count": 33,
     "metadata": {},
     "output_type": "execute_result"
    }
   ],
   "source": [
    "df[\"amount\"].sum().round(2)"
   ]
  }
 ],
 "metadata": {
  "kernelspec": {
   "display_name": ".venv",
   "language": "python",
   "name": "python3"
  },
  "language_info": {
   "codemirror_mode": {
    "name": "ipython",
    "version": 3
   },
   "file_extension": ".py",
   "mimetype": "text/x-python",
   "name": "python",
   "nbconvert_exporter": "python",
   "pygments_lexer": "ipython3",
   "version": "3.10.12"
  }
 },
 "nbformat": 4,
 "nbformat_minor": 2
}
