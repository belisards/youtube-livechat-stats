{
 "cells": [
  {
   "cell_type": "code",
   "execution_count": 2,
   "metadata": {},
   "outputs": [],
   "source": [
    "import json\n",
    "import pandas as pd\n",
    "\n",
    "FOLDER = \"output\"\n",
    "\n",
    "file = \"Xp8pH3tCQ5E.json\"\n",
    "\n",
    "## TO-DO: Use Path instead\n",
    "\n",
    "INPUT_FILE = f\"{FOLDER}/{file}\"\n",
    "\n",
    "df = pd.read_json(INPUT_FILE)\n",
    "\n",
    "# explode dicts\n",
    "\n",
    "df = df.join(pd.json_normalize(df[\"content\"])).drop(columns=[\"content\"])"
   ]
  },
  {
   "cell_type": "code",
   "execution_count": 3,
   "metadata": {},
   "outputs": [
    {
     "data": {
      "text/plain": [
       "Index(['message_type', 'occurence_timestamp', 'timeStampUTC', 'author',\n",
       "       'message', 'emoji', 'text_content', 'purchaseAmount.simpleText',\n",
       "       'giftText', 'giftedText', 'membershipChat', 'membershipJoin',\n",
       "       'membershipRenewal'],\n",
       "      dtype='object')"
      ]
     },
     "execution_count": 3,
     "metadata": {},
     "output_type": "execute_result"
    }
   ],
   "source": [
    "df.columns"
   ]
  },
  {
   "cell_type": "code",
   "execution_count": 4,
   "metadata": {},
   "outputs": [
    {
     "data": {
      "text/plain": [
       "1401"
      ]
     },
     "execution_count": 4,
     "metadata": {},
     "output_type": "execute_result"
    }
   ],
   "source": [
    "df.author.nunique()"
   ]
  },
  {
   "cell_type": "code",
   "execution_count": 5,
   "metadata": {},
   "outputs": [
    {
     "data": {
      "text/html": [
       "<div>\n",
       "<style scoped>\n",
       "    .dataframe tbody tr th:only-of-type {\n",
       "        vertical-align: middle;\n",
       "    }\n",
       "\n",
       "    .dataframe tbody tr th {\n",
       "        vertical-align: top;\n",
       "    }\n",
       "\n",
       "    .dataframe thead th {\n",
       "        text-align: right;\n",
       "    }\n",
       "</style>\n",
       "<table border=\"1\" class=\"dataframe\">\n",
       "  <thead>\n",
       "    <tr style=\"text-align: right;\">\n",
       "      <th></th>\n",
       "      <th>message_type</th>\n",
       "      <th>occurence_timestamp</th>\n",
       "      <th>timeStampUTC</th>\n",
       "      <th>author</th>\n",
       "      <th>message</th>\n",
       "      <th>emoji</th>\n",
       "      <th>text_content</th>\n",
       "      <th>purchaseAmount.simpleText</th>\n",
       "      <th>giftText</th>\n",
       "      <th>giftedText</th>\n",
       "      <th>membershipChat</th>\n",
       "      <th>membershipJoin</th>\n",
       "      <th>membershipRenewal</th>\n",
       "    </tr>\n",
       "  </thead>\n",
       "  <tbody>\n",
       "    <tr>\n",
       "      <th>0</th>\n",
       "      <td>Chat Message</td>\n",
       "      <td>-39:27</td>\n",
       "      <td>2024-02-07 14:37:40.700848</td>\n",
       "      <td>NANDOLLA TV</td>\n",
       "      <td>Bom dia Rafael.</td>\n",
       "      <td>[]</td>\n",
       "      <td>Bom dia Rafael.</td>\n",
       "      <td>NaN</td>\n",
       "      <td>NaN</td>\n",
       "      <td>NaN</td>\n",
       "      <td>NaN</td>\n",
       "      <td>NaN</td>\n",
       "      <td>NaN</td>\n",
       "    </tr>\n",
       "    <tr>\n",
       "      <th>1</th>\n",
       "      <td>Chat Message</td>\n",
       "      <td>-38:09</td>\n",
       "      <td>2024-02-07 14:38:58.659477</td>\n",
       "      <td>Oriel Sane</td>\n",
       "      <td>BOOOORA RAFFA</td>\n",
       "      <td>[]</td>\n",
       "      <td>BOOOORA RAFFA</td>\n",
       "      <td>NaN</td>\n",
       "      <td>NaN</td>\n",
       "      <td>NaN</td>\n",
       "      <td>NaN</td>\n",
       "      <td>NaN</td>\n",
       "      <td>NaN</td>\n",
       "    </tr>\n",
       "    <tr>\n",
       "      <th>2</th>\n",
       "      <td>Chat Message</td>\n",
       "      <td>-32:20</td>\n",
       "      <td>2024-02-07 14:44:48.172708</td>\n",
       "      <td>Tyln D'</td>\n",
       "      <td>agora sim é a final...</td>\n",
       "      <td>[]</td>\n",
       "      <td>agora sim é a final...</td>\n",
       "      <td>NaN</td>\n",
       "      <td>NaN</td>\n",
       "      <td>NaN</td>\n",
       "      <td>NaN</td>\n",
       "      <td>NaN</td>\n",
       "      <td>NaN</td>\n",
       "    </tr>\n",
       "    <tr>\n",
       "      <th>3</th>\n",
       "      <td>Chat Message</td>\n",
       "      <td>-32:16</td>\n",
       "      <td>2024-02-07 14:44:51.564658</td>\n",
       "      <td>Hyouka †</td>\n",
       "      <td>Será que hoje vai dar caganeira no Magnus?</td>\n",
       "      <td>[]</td>\n",
       "      <td>Será que hoje vai dar caganeira no Magnus?</td>\n",
       "      <td>NaN</td>\n",
       "      <td>NaN</td>\n",
       "      <td>NaN</td>\n",
       "      <td>NaN</td>\n",
       "      <td>NaN</td>\n",
       "      <td>NaN</td>\n",
       "    </tr>\n",
       "    <tr>\n",
       "      <th>4</th>\n",
       "      <td>Chat Message</td>\n",
       "      <td>-30:11</td>\n",
       "      <td>2024-02-07 14:46:56.816794</td>\n",
       "      <td>Jeane Moreira</td>\n",
       "      <td>achei que fosse ontem</td>\n",
       "      <td>[]</td>\n",
       "      <td>achei que fosse ontem</td>\n",
       "      <td>NaN</td>\n",
       "      <td>NaN</td>\n",
       "      <td>NaN</td>\n",
       "      <td>NaN</td>\n",
       "      <td>NaN</td>\n",
       "      <td>NaN</td>\n",
       "    </tr>\n",
       "    <tr>\n",
       "      <th>...</th>\n",
       "      <td>...</td>\n",
       "      <td>...</td>\n",
       "      <td>...</td>\n",
       "      <td>...</td>\n",
       "      <td>...</td>\n",
       "      <td>...</td>\n",
       "      <td>...</td>\n",
       "      <td>...</td>\n",
       "      <td>...</td>\n",
       "      <td>...</td>\n",
       "      <td>...</td>\n",
       "      <td>...</td>\n",
       "      <td>...</td>\n",
       "    </tr>\n",
       "    <tr>\n",
       "      <th>7176</th>\n",
       "      <td>Chat Message</td>\n",
       "      <td>3:41:07</td>\n",
       "      <td>2024-02-07 18:58:08.443040</td>\n",
       "      <td>Salles𓃠</td>\n",
       "      <td>$clock-turquoise-looking-up $clock-turquoise-l...</td>\n",
       "      <td>[{'name': 'clock-turquoise-looking-up', 'isCus...</td>\n",
       "      <td></td>\n",
       "      <td>NaN</td>\n",
       "      <td>NaN</td>\n",
       "      <td>NaN</td>\n",
       "      <td>NaN</td>\n",
       "      <td>NaN</td>\n",
       "      <td>NaN</td>\n",
       "    </tr>\n",
       "    <tr>\n",
       "      <th>7177</th>\n",
       "      <td>Chat Message</td>\n",
       "      <td>3:41:10</td>\n",
       "      <td>2024-02-07 18:58:11.002449</td>\n",
       "      <td>Anderson Cortez</td>\n",
       "      <td>GOAT</td>\n",
       "      <td>[]</td>\n",
       "      <td>GOAT</td>\n",
       "      <td>NaN</td>\n",
       "      <td>NaN</td>\n",
       "      <td>NaN</td>\n",
       "      <td>NaN</td>\n",
       "      <td>NaN</td>\n",
       "      <td>NaN</td>\n",
       "    </tr>\n",
       "    <tr>\n",
       "      <th>7178</th>\n",
       "      <td>Chat Message</td>\n",
       "      <td>3:41:10</td>\n",
       "      <td>2024-02-07 18:58:11.299022</td>\n",
       "      <td>Antonio José Ccb</td>\n",
       "      <td>boa tarde pro cês</td>\n",
       "      <td>[]</td>\n",
       "      <td>boa tarde pro cês</td>\n",
       "      <td>NaN</td>\n",
       "      <td>NaN</td>\n",
       "      <td>NaN</td>\n",
       "      <td>NaN</td>\n",
       "      <td>NaN</td>\n",
       "      <td>NaN</td>\n",
       "    </tr>\n",
       "    <tr>\n",
       "      <th>7179</th>\n",
       "      <td>Chat Message</td>\n",
       "      <td>3:41:24</td>\n",
       "      <td>2024-02-07 18:58:24.869356</td>\n",
       "      <td>Romero Brito</td>\n",
       "      <td>melhor q fischer no sentido de existir engine ...</td>\n",
       "      <td>[]</td>\n",
       "      <td>melhor q fischer no sentido de existir engine ...</td>\n",
       "      <td>NaN</td>\n",
       "      <td>NaN</td>\n",
       "      <td>NaN</td>\n",
       "      <td>NaN</td>\n",
       "      <td>NaN</td>\n",
       "      <td>NaN</td>\n",
       "    </tr>\n",
       "    <tr>\n",
       "      <th>7180</th>\n",
       "      <td>Chat Message</td>\n",
       "      <td>3:41:25</td>\n",
       "      <td>2024-02-07 18:58:26.509453</td>\n",
       "      <td>João Pedro Leite</td>\n",
       "      <td>$trophy-yellow-smiling $trophy-yellow-smiling ...</td>\n",
       "      <td>[{'name': 'trophy-yellow-smiling', 'isCustom':...</td>\n",
       "      <td></td>\n",
       "      <td>NaN</td>\n",
       "      <td>NaN</td>\n",
       "      <td>NaN</td>\n",
       "      <td>NaN</td>\n",
       "      <td>NaN</td>\n",
       "      <td>NaN</td>\n",
       "    </tr>\n",
       "  </tbody>\n",
       "</table>\n",
       "<p>7181 rows × 13 columns</p>\n",
       "</div>"
      ],
      "text/plain": [
       "      message_type occurence_timestamp               timeStampUTC  \\\n",
       "0     Chat Message              -39:27 2024-02-07 14:37:40.700848   \n",
       "1     Chat Message              -38:09 2024-02-07 14:38:58.659477   \n",
       "2     Chat Message              -32:20 2024-02-07 14:44:48.172708   \n",
       "3     Chat Message              -32:16 2024-02-07 14:44:51.564658   \n",
       "4     Chat Message              -30:11 2024-02-07 14:46:56.816794   \n",
       "...            ...                 ...                        ...   \n",
       "7176  Chat Message             3:41:07 2024-02-07 18:58:08.443040   \n",
       "7177  Chat Message             3:41:10 2024-02-07 18:58:11.002449   \n",
       "7178  Chat Message             3:41:10 2024-02-07 18:58:11.299022   \n",
       "7179  Chat Message             3:41:24 2024-02-07 18:58:24.869356   \n",
       "7180  Chat Message             3:41:25 2024-02-07 18:58:26.509453   \n",
       "\n",
       "                author                                            message  \\\n",
       "0          NANDOLLA TV                                   Bom dia Rafael.    \n",
       "1           Oriel Sane                                     BOOOORA RAFFA    \n",
       "2              Tyln D'                            agora sim é a final...    \n",
       "3             Hyouka †        Será que hoje vai dar caganeira no Magnus?    \n",
       "4        Jeane Moreira                             achei que fosse ontem    \n",
       "...                ...                                                ...   \n",
       "7176           Salles𓃠  $clock-turquoise-looking-up $clock-turquoise-l...   \n",
       "7177   Anderson Cortez                                              GOAT    \n",
       "7178  Antonio José Ccb                                 boa tarde pro cês    \n",
       "7179      Romero Brito  melhor q fischer no sentido de existir engine ...   \n",
       "7180  João Pedro Leite  $trophy-yellow-smiling $trophy-yellow-smiling ...   \n",
       "\n",
       "                                                  emoji  \\\n",
       "0                                                    []   \n",
       "1                                                    []   \n",
       "2                                                    []   \n",
       "3                                                    []   \n",
       "4                                                    []   \n",
       "...                                                 ...   \n",
       "7176  [{'name': 'clock-turquoise-looking-up', 'isCus...   \n",
       "7177                                                 []   \n",
       "7178                                                 []   \n",
       "7179                                                 []   \n",
       "7180  [{'name': 'trophy-yellow-smiling', 'isCustom':...   \n",
       "\n",
       "                                           text_content  \\\n",
       "0                                      Bom dia Rafael.    \n",
       "1                                        BOOOORA RAFFA    \n",
       "2                               agora sim é a final...    \n",
       "3           Será que hoje vai dar caganeira no Magnus?    \n",
       "4                                achei que fosse ontem    \n",
       "...                                                 ...   \n",
       "7176                                                      \n",
       "7177                                              GOAT    \n",
       "7178                                 boa tarde pro cês    \n",
       "7179  melhor q fischer no sentido de existir engine ...   \n",
       "7180                                                      \n",
       "\n",
       "     purchaseAmount.simpleText giftText giftedText membershipChat  \\\n",
       "0                          NaN      NaN        NaN            NaN   \n",
       "1                          NaN      NaN        NaN            NaN   \n",
       "2                          NaN      NaN        NaN            NaN   \n",
       "3                          NaN      NaN        NaN            NaN   \n",
       "4                          NaN      NaN        NaN            NaN   \n",
       "...                        ...      ...        ...            ...   \n",
       "7176                       NaN      NaN        NaN            NaN   \n",
       "7177                       NaN      NaN        NaN            NaN   \n",
       "7178                       NaN      NaN        NaN            NaN   \n",
       "7179                       NaN      NaN        NaN            NaN   \n",
       "7180                       NaN      NaN        NaN            NaN   \n",
       "\n",
       "     membershipJoin membershipRenewal  \n",
       "0               NaN               NaN  \n",
       "1               NaN               NaN  \n",
       "2               NaN               NaN  \n",
       "3               NaN               NaN  \n",
       "4               NaN               NaN  \n",
       "...             ...               ...  \n",
       "7176            NaN               NaN  \n",
       "7177            NaN               NaN  \n",
       "7178            NaN               NaN  \n",
       "7179            NaN               NaN  \n",
       "7180            NaN               NaN  \n",
       "\n",
       "[7181 rows x 13 columns]"
      ]
     },
     "execution_count": 5,
     "metadata": {},
     "output_type": "execute_result"
    }
   ],
   "source": [
    "df"
   ]
  },
  {
   "cell_type": "code",
   "execution_count": 6,
   "metadata": {},
   "outputs": [
    {
     "data": {
      "text/plain": [
       "author\n",
       "Murilo Torres♰         294\n",
       "Ilana                  147\n",
       "N/A                    147\n",
       "Mateus Matias          122\n",
       "Sandro                 106\n",
       "                      ... \n",
       "BRENO DC YT              1\n",
       "NANDOLLA TV              1\n",
       "Gab                      1\n",
       "Ticquey HUE              1\n",
       "Marcelo Rocha Brito      1\n",
       "Name: count, Length: 1401, dtype: int64"
      ]
     },
     "execution_count": 6,
     "metadata": {},
     "output_type": "execute_result"
    }
   ],
   "source": [
    "df.author.value_counts()"
   ]
  },
  {
   "cell_type": "code",
   "execution_count": 7,
   "metadata": {},
   "outputs": [
    {
     "data": {
      "text/plain": [
       "message_type\n",
       "Chat Message                        6905\n",
       "Placeholder Item Message             147\n",
       "Superchat Message                     95\n",
       "Membership Gift Received message      17\n",
       "Membership Chat message               10\n",
       "Membership Gift message                3\n",
       "Membership Join message                2\n",
       "Membership Renew message               2\n",
       "Name: count, dtype: int64"
      ]
     },
     "execution_count": 7,
     "metadata": {},
     "output_type": "execute_result"
    }
   ],
   "source": [
    "df.message_type.value_counts()"
   ]
  },
  {
   "cell_type": "code",
   "execution_count": 8,
   "metadata": {},
   "outputs": [
    {
     "data": {
      "text/plain": [
       "purchaseAmount.simpleText\n",
       "R$2.00     60\n",
       "R$5.00     26\n",
       "R$10.90     3\n",
       "R$10.00     2\n",
       "R$1.00      2\n",
       "$5.00       1\n",
       "R$2.01      1\n",
       "Name: count, dtype: int64"
      ]
     },
     "execution_count": 8,
     "metadata": {},
     "output_type": "execute_result"
    }
   ],
   "source": [
    "df[\"purchaseAmount.simpleText\"].value_counts()"
   ]
  },
  {
   "cell_type": "code",
   "execution_count": 9,
   "metadata": {},
   "outputs": [
    {
     "name": "stdout",
     "output_type": "stream",
     "text": [
      "<class 'pandas.core.frame.DataFrame'>\n",
      "RangeIndex: 7181 entries, 0 to 7180\n",
      "Data columns (total 13 columns):\n",
      " #   Column                     Non-Null Count  Dtype         \n",
      "---  ------                     --------------  -----         \n",
      " 0   message_type               7181 non-null   object        \n",
      " 1   occurence_timestamp        7178 non-null   object        \n",
      " 2   timeStampUTC               7181 non-null   datetime64[ns]\n",
      " 3   author                     7181 non-null   object        \n",
      " 4   message                    7147 non-null   object        \n",
      " 5   emoji                      6905 non-null   object        \n",
      " 6   text_content               6905 non-null   object        \n",
      " 7   purchaseAmount.simpleText  95 non-null     object        \n",
      " 8   giftText                   3 non-null      object        \n",
      " 9   giftedText                 17 non-null     object        \n",
      " 10  membershipChat             10 non-null     object        \n",
      " 11  membershipJoin             2 non-null      object        \n",
      " 12  membershipRenewal          2 non-null      object        \n",
      "dtypes: datetime64[ns](1), object(12)\n",
      "memory usage: 729.4+ KB\n"
     ]
    }
   ],
   "source": [
    "df.info()"
   ]
  },
  {
   "cell_type": "code",
   "execution_count": 10,
   "metadata": {},
   "outputs": [
    {
     "name": "stderr",
     "output_type": "stream",
     "text": [
      "/tmp/ipykernel_263242/653160005.py:1: FutureWarning: A value is trying to be set on a copy of a DataFrame or Series through chained assignment using an inplace method.\n",
      "The behavior will change in pandas 3.0. This inplace method will never work because the intermediate object on which we are setting values always behaves as a copy.\n",
      "\n",
      "For example, when doing 'df[col].method(value, inplace=True)', try using 'df.method({col: value}, inplace=True)' or df[col] = df[col].method(value) instead, to perform the operation inplace on the original object.\n",
      "\n",
      "\n",
      "  df[\"purchaseAmount.simpleText\"].fillna(\"R$ 0.00\", inplace=True)\n"
     ]
    }
   ],
   "source": [
    "df[\"purchaseAmount.simpleText\"].fillna(\"R$ 0.00\", inplace=True)"
   ]
  },
  {
   "cell_type": "code",
   "execution_count": 11,
   "metadata": {},
   "outputs": [],
   "source": [
    "import re\n",
    "def parse_currency_and_value(currency_string):\n",
    "    # Regular expression to extract the currency symbol and the numeric value\n",
    "    pattern = re.compile(r'([^\\d.,]+)?([\\d.,]+)')\n",
    "    match = pattern.match(currency_string.strip())\n",
    "\n",
    "    if match:\n",
    "        currency = match.group(1)\n",
    "        currency = currency.strip() if currency else ''\n",
    "        value = float(match.group(2).replace(',', ''))  # Handle cases where commas are used as thousand separators\n",
    "        return currency, value\n",
    "    else:\n",
    "        raise ValueError(\"Invalid currency format\")\n",
    "\n",
    "    \n",
    "df[\"currency\"], df[\"amount\"] = zip(*df[\"purchaseAmount.simpleText\"].map(parse_currency_and_value))"
   ]
  },
  {
   "cell_type": "code",
   "execution_count": 12,
   "metadata": {},
   "outputs": [
    {
     "data": {
      "text/plain": [
       "amount\n",
       "0.00     7086\n",
       "2.00       60\n",
       "5.00       27\n",
       "10.90       3\n",
       "10.00       2\n",
       "1.00        2\n",
       "2.01        1\n",
       "Name: count, dtype: int64"
      ]
     },
     "execution_count": 12,
     "metadata": {},
     "output_type": "execute_result"
    }
   ],
   "source": [
    "df[\"amount\"].value_counts()"
   ]
  },
  {
   "cell_type": "code",
   "execution_count": 13,
   "metadata": {},
   "outputs": [
    {
     "data": {
      "text/plain": [
       "np.float64(311.71)"
      ]
     },
     "execution_count": 13,
     "metadata": {},
     "output_type": "execute_result"
    }
   ],
   "source": [
    "df[\"amount\"].sum().round(2)"
   ]
  }
 ],
 "metadata": {
  "kernelspec": {
   "display_name": ".venv",
   "language": "python",
   "name": "python3"
  },
  "language_info": {
   "codemirror_mode": {
    "name": "ipython",
    "version": 3
   },
   "file_extension": ".py",
   "mimetype": "text/x-python",
   "name": "python",
   "nbconvert_exporter": "python",
   "pygments_lexer": "ipython3",
   "version": "3.10.12"
  }
 },
 "nbformat": 4,
 "nbformat_minor": 2
}
